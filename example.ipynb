{
	"cells": [
		{
			"cell_type": "markdown",
			"metadata": {},
			"source": [
				"# Jupyter Graphviz anywidget\n",
				"\n",
				"Render dot diagrams as SVG using graphviz wasm."
			]
		},
		{
			"cell_type": "code",
			"execution_count": 2,
			"metadata": {},
			"outputs": [
				{
					"data": {
						"application/vnd.jupyter.widget-view+json": {
							"model_id": "4d31e23d786b4d0b981503ee6152570d",
							"version_major": 2,
							"version_minor": 1
						},
						"text/plain": [
							"graphvizWidget(headless=True)"
						]
					},
					"metadata": {},
					"output_type": "display_data"
				}
			],
			"source": [
				"from jupyter_anywidget_graphviz import graphviz_headless\n",
				"%load_ext jupyter_anywidget_graphviz\n",
				"\n",
				"g = graphviz_headless()"
			]
		},
		{
			"cell_type": "markdown",
			"metadata": {},
			"source": [
				"When first calling the magic, we need to specify which widget we want to use with the magic. Use the `-w / --widget-name` magic parameter to set this value via the cell block magic:"
			]
		},
		{
			"cell_type": "code",
			"execution_count": 3,
			"metadata": {},
			"outputs": [],
			"source": [
				"%%graphviz_magic --widget-name g\n",
				"  strict graph {\n",
				"    a -- b\n",
				"    a -- b\n",
				"    b -- a [color=blue]\n",
				"  }"
			]
		},
		{
			"cell_type": "code",
			"execution_count": 4,
			"metadata": {},
			"outputs": [
				{
					"data": {
						"image/svg+xml": [
							"<svg xmlns=\"http://www.w3.org/2000/svg\" xmlns:xlink=\"http://www.w3.org/1999/xlink\" width=\"62pt\" height=\"116pt\" viewBox=\"0.00 0.00 62.00 116.00\">\n",
							"<g id=\"graph0\" class=\"graph\" transform=\"scale(1 1) rotate(0) translate(4 112)\">\n",
							"<polygon fill=\"white\" stroke=\"none\" points=\"-4,4 -4,-112 58,-112 58,4 -4,4\"/>\n",
							"<!-- a -->\n",
							"<g id=\"node1\" class=\"node\">\n",
							"<title>a</title>\n",
							"<ellipse fill=\"none\" stroke=\"black\" cx=\"27\" cy=\"-90\" rx=\"27\" ry=\"18\"/>\n",
							"<text text-anchor=\"middle\" x=\"27\" y=\"-85.8\" font-family=\"Times,serif\" font-size=\"14.00\">a</text>\n",
							"</g>\n",
							"<!-- b -->\n",
							"<g id=\"node2\" class=\"node\">\n",
							"<title>b</title>\n",
							"<ellipse fill=\"none\" stroke=\"black\" cx=\"27\" cy=\"-18\" rx=\"27\" ry=\"18\"/>\n",
							"<text text-anchor=\"middle\" x=\"27\" y=\"-13.8\" font-family=\"Times,serif\" font-size=\"14.00\">b</text>\n",
							"</g>\n",
							"<!-- a&#45;&#45;b -->\n",
							"<g id=\"edge1\" class=\"edge\">\n",
							"<title>a--b</title>\n",
							"<path fill=\"none\" stroke=\"blue\" d=\"M27,-71.7C27,-60.85 27,-46.92 27,-36.1\"/>\n",
							"</g>\n",
							"</g>\n",
							"</svg>"
						],
						"text/plain": [
							"<IPython.core.display.SVG object>"
						]
					},
					"execution_count": 4,
					"metadata": {},
					"output_type": "execute_result"
				}
			],
			"source": [
				"from IPython.display import SVG\n",
				"\n",
				"SVG(g.svg)"
			]
		},
		{
			"cell_type": "markdown",
			"metadata": {},
			"source": [
				"We can now assume the widget used by the magic:"
			]
		},
		{
			"cell_type": "code",
			"execution_count": null,
			"metadata": {},
			"outputs": [],
			"source": [
				"%%graphviz_magic\n",
				"  strict graph {\n",
				"    a -- b\n",
				"    a -- b\n",
				"    b -- a [color=red]\n",
				"  }"
			]
		},
		{
			"cell_type": "code",
			"execution_count": null,
			"metadata": {},
			"outputs": [],
			"source": [
				"SVG(g.svg)"
			]
		},
		{
			"cell_type": "code",
			"execution_count": 5,
			"metadata": {},
			"outputs": [
				{
					"data": {
						"application/vnd.jupyter.widget-view+json": {
							"model_id": "098265e523a74fdb8247409e82cd672a",
							"version_major": 2,
							"version_minor": 1
						},
						"text/plain": [
							"graphvizWidget()"
						]
					},
					"metadata": {},
					"output_type": "display_data"
				}
			],
			"source": [
				"from jupyter_anywidget_graphviz import graphviz_inline\n",
				"\n",
				"g = graphviz_inline()"
			]
		},
		{
			"cell_type": "markdown",
			"metadata": {},
			"source": [
				"We can also set the widget used by the magic via line magic:"
			]
		},
		{
			"cell_type": "code",
			"execution_count": null,
			"metadata": {},
			"outputs": [],
			"source": [
				"%setwidget g"
			]
		},
		{
			"cell_type": "markdown",
			"metadata": {},
			"source": [
				"We can now call the magic directly:"
			]
		},
		{
			"cell_type": "code",
			"execution_count": 6,
			"metadata": {},
			"outputs": [],
			"source": [
				"%%graphviz_magic\n",
				"  strict graph {\n",
				"    a -- b\n",
				"    a -- b\n",
				"    b -- a [color=blue]\n",
				"  }"
			]
		}
	],
	"metadata": {
		"kernelspec": {
			"display_name": "Python 3",
			"language": "python",
			"name": "python3"
		},
		"language_info": {
			"codemirror_mode": {
				"name": "ipython",
				"version": 3
			},
			"file_extension": ".py",
			"mimetype": "text/x-python",
			"name": "python",
			"nbconvert_exporter": "python",
			"pygments_lexer": "ipython3",
			"version": "3.11.0"
		}
	},
	"nbformat": 4,
	"nbformat_minor": 2
}
